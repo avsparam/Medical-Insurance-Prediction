{
 "cells": [
  {
   "cell_type": "code",
   "execution_count": 1,
   "id": "eee4c241",
   "metadata": {},
   "outputs": [],
   "source": [
    "# Import our dependencies\n",
    "from sklearn.model_selection import train_test_split\n",
    "from sklearn.preprocessing import StandardScaler\n",
    "from sklearn.model_selection import GridSearchCV\n",
    "from sklearn.multioutput import MultiOutputRegressor\n",
    "from sklearn.metrics import explained_variance_score, r2_score\n",
    "from sklearn.model_selection import cross_validate\n",
    "import tensorflow as tf\n",
    "from sklearn.metrics import mean_squared_error as MSE\n",
    "from pathlib import Path\n",
    "from sklearn.metrics import classification_report\n",
    "import xgboost as xg \n",
    "from xgboost import XGBClassifier\n",
    "import pandas as pd , numpy as np , datetime, os\n",
    "from sklearn.preprocessing import MinMaxScaler, OneHotEncoder\n",
    "from tensorflow.keras import layers\n",
    "import seaborn as sns,  matplotlib.pyplot as plt, joblib as jlib\n",
    "import tensorflow as tf, keras_tuner, tensorflow.keras as keras\n",
    "from tensorflow.keras import layers\n",
    "\n"
   ]
  },
  {
   "cell_type": "code",
   "execution_count": 2,
   "id": "5e8039f6",
   "metadata": {},
   "outputs": [
    {
     "name": "stdout",
     "output_type": "stream",
     "text": [
      "Requirement already satisfied: csv-to-sqlite in /Users/j.mai.le/anaconda3/lib/python3.11/site-packages (2.1.3)\n",
      "Requirement already satisfied: click in /Users/j.mai.le/anaconda3/lib/python3.11/site-packages (from csv-to-sqlite) (8.0.4)\n",
      "Note: you may need to restart the kernel to use updated packages.\n"
     ]
    }
   ],
   "source": [
    "pip install csv-to-sqlite"
   ]
  },
  {
   "cell_type": "code",
   "execution_count": 3,
   "id": "b33ad0af",
   "metadata": {},
   "outputs": [],
   "source": [
    "import csv_to_sqlite"
   ]
  },
  {
   "cell_type": "code",
   "execution_count": 4,
   "id": "61b3d7ff",
   "metadata": {},
   "outputs": [
    {
     "name": "stdout",
     "output_type": "stream",
     "text": [
      "\n",
      "Error on table Resources/insurance.csv: \n",
      " table [insurance] already exists\n",
      "Written 0 rows into 1 tables in 0.014 seconds\n"
     ]
    },
    {
     "data": {
      "text/plain": [
       "0"
      ]
     },
     "execution_count": 4,
     "metadata": {},
     "output_type": "execute_result"
    }
   ],
   "source": [
    "options = csv_to_sqlite.CsvOptions(typing_style=\"full\", encoding=\"UTF-8\")\n",
    "#change path to \"Resources/insurance.csv\" for jupyter notebook\n",
    "input_files = ['Resources/insurance.csv']\n",
    "#change path to \"Resources/insurance.sqlite\" for jupyter notebook\n",
    "csv_to_sqlite.write_csv(input_files, \"Resources/insurance.sqlite\", options)"
   ]
  },
  {
   "cell_type": "code",
   "execution_count": 5,
   "id": "f414f68b",
   "metadata": {},
   "outputs": [],
   "source": [
    "import sqlalchemy\n",
    "from sqlalchemy import create_engine, text, inspect, func\n",
    "import warnings\n",
    "engine = create_engine(\"sqlite:///Resources/insurance.sqlite\")\n",
    "\n",
    "#gives warning but easier to get the dataframe from querying\n",
    "warnings.filterwarnings('ignore')\n",
    "conn = engine.raw_connection()\n",
    "insurance_df = pd.read_sql_query(sql=f\"SELECT age ,sex, bmi, children, smoker , region , ROUND(charges,2) as charges FROM insurance\", con=conn)"
   ]
  },
  {
   "cell_type": "code",
   "execution_count": 6,
   "id": "0c71e213",
   "metadata": {},
   "outputs": [
    {
     "data": {
      "text/html": [
       "<div>\n",
       "<style scoped>\n",
       "    .dataframe tbody tr th:only-of-type {\n",
       "        vertical-align: middle;\n",
       "    }\n",
       "\n",
       "    .dataframe tbody tr th {\n",
       "        vertical-align: top;\n",
       "    }\n",
       "\n",
       "    .dataframe thead th {\n",
       "        text-align: right;\n",
       "    }\n",
       "</style>\n",
       "<table border=\"1\" class=\"dataframe\">\n",
       "  <thead>\n",
       "    <tr style=\"text-align: right;\">\n",
       "      <th></th>\n",
       "      <th>age</th>\n",
       "      <th>sex</th>\n",
       "      <th>bmi</th>\n",
       "      <th>children</th>\n",
       "      <th>smoker</th>\n",
       "      <th>region</th>\n",
       "      <th>charges</th>\n",
       "    </tr>\n",
       "  </thead>\n",
       "  <tbody>\n",
       "    <tr>\n",
       "      <th>0</th>\n",
       "      <td>19</td>\n",
       "      <td>female</td>\n",
       "      <td>27.900</td>\n",
       "      <td>0</td>\n",
       "      <td>yes</td>\n",
       "      <td>southwest</td>\n",
       "      <td>16884.92</td>\n",
       "    </tr>\n",
       "    <tr>\n",
       "      <th>1</th>\n",
       "      <td>18</td>\n",
       "      <td>male</td>\n",
       "      <td>33.770</td>\n",
       "      <td>1</td>\n",
       "      <td>no</td>\n",
       "      <td>southeast</td>\n",
       "      <td>1725.55</td>\n",
       "    </tr>\n",
       "    <tr>\n",
       "      <th>2</th>\n",
       "      <td>28</td>\n",
       "      <td>male</td>\n",
       "      <td>33.000</td>\n",
       "      <td>3</td>\n",
       "      <td>no</td>\n",
       "      <td>southeast</td>\n",
       "      <td>4449.46</td>\n",
       "    </tr>\n",
       "    <tr>\n",
       "      <th>3</th>\n",
       "      <td>33</td>\n",
       "      <td>male</td>\n",
       "      <td>22.705</td>\n",
       "      <td>0</td>\n",
       "      <td>no</td>\n",
       "      <td>northwest</td>\n",
       "      <td>21984.47</td>\n",
       "    </tr>\n",
       "    <tr>\n",
       "      <th>4</th>\n",
       "      <td>32</td>\n",
       "      <td>male</td>\n",
       "      <td>28.880</td>\n",
       "      <td>0</td>\n",
       "      <td>no</td>\n",
       "      <td>northwest</td>\n",
       "      <td>3866.86</td>\n",
       "    </tr>\n",
       "    <tr>\n",
       "      <th>...</th>\n",
       "      <td>...</td>\n",
       "      <td>...</td>\n",
       "      <td>...</td>\n",
       "      <td>...</td>\n",
       "      <td>...</td>\n",
       "      <td>...</td>\n",
       "      <td>...</td>\n",
       "    </tr>\n",
       "    <tr>\n",
       "      <th>1333</th>\n",
       "      <td>50</td>\n",
       "      <td>male</td>\n",
       "      <td>30.970</td>\n",
       "      <td>3</td>\n",
       "      <td>no</td>\n",
       "      <td>northwest</td>\n",
       "      <td>10600.55</td>\n",
       "    </tr>\n",
       "    <tr>\n",
       "      <th>1334</th>\n",
       "      <td>18</td>\n",
       "      <td>female</td>\n",
       "      <td>31.920</td>\n",
       "      <td>0</td>\n",
       "      <td>no</td>\n",
       "      <td>northeast</td>\n",
       "      <td>2205.98</td>\n",
       "    </tr>\n",
       "    <tr>\n",
       "      <th>1335</th>\n",
       "      <td>18</td>\n",
       "      <td>female</td>\n",
       "      <td>36.850</td>\n",
       "      <td>0</td>\n",
       "      <td>no</td>\n",
       "      <td>southeast</td>\n",
       "      <td>1629.83</td>\n",
       "    </tr>\n",
       "    <tr>\n",
       "      <th>1336</th>\n",
       "      <td>21</td>\n",
       "      <td>female</td>\n",
       "      <td>25.800</td>\n",
       "      <td>0</td>\n",
       "      <td>no</td>\n",
       "      <td>southwest</td>\n",
       "      <td>2007.95</td>\n",
       "    </tr>\n",
       "    <tr>\n",
       "      <th>1337</th>\n",
       "      <td>61</td>\n",
       "      <td>female</td>\n",
       "      <td>29.070</td>\n",
       "      <td>0</td>\n",
       "      <td>yes</td>\n",
       "      <td>northwest</td>\n",
       "      <td>29141.36</td>\n",
       "    </tr>\n",
       "  </tbody>\n",
       "</table>\n",
       "<p>1338 rows × 7 columns</p>\n",
       "</div>"
      ],
      "text/plain": [
       "      age     sex     bmi  children smoker     region   charges\n",
       "0      19  female  27.900         0    yes  southwest  16884.92\n",
       "1      18    male  33.770         1     no  southeast   1725.55\n",
       "2      28    male  33.000         3     no  southeast   4449.46\n",
       "3      33    male  22.705         0     no  northwest  21984.47\n",
       "4      32    male  28.880         0     no  northwest   3866.86\n",
       "...   ...     ...     ...       ...    ...        ...       ...\n",
       "1333   50    male  30.970         3     no  northwest  10600.55\n",
       "1334   18  female  31.920         0     no  northeast   2205.98\n",
       "1335   18  female  36.850         0     no  southeast   1629.83\n",
       "1336   21  female  25.800         0     no  southwest   2007.95\n",
       "1337   61  female  29.070         0    yes  northwest  29141.36\n",
       "\n",
       "[1338 rows x 7 columns]"
      ]
     },
     "execution_count": 6,
     "metadata": {},
     "output_type": "execute_result"
    }
   ],
   "source": [
    "insurance_df"
   ]
  },
  {
   "cell_type": "code",
   "execution_count": 7,
   "id": "2a49d23b",
   "metadata": {},
   "outputs": [
    {
     "data": {
      "text/plain": [
       "age           int64\n",
       "sex          object\n",
       "bmi         float64\n",
       "children      int64\n",
       "smoker       object\n",
       "region       object\n",
       "charges     float64\n",
       "dtype: object"
      ]
     },
     "execution_count": 7,
     "metadata": {},
     "output_type": "execute_result"
    }
   ],
   "source": [
    "insurance_df.dtypes"
   ]
  },
  {
   "cell_type": "code",
   "execution_count": 8,
   "id": "37fb1de7",
   "metadata": {},
   "outputs": [],
   "source": [
    "# @title OneHot + MinMax\n",
    "df1 = insurance_df.copy()\n",
    "\n",
    "col_to_encode = ['sex', 'smoker', 'region']\n",
    "\n",
    "X_OneHot_model = OneHotEncoder(sparse_output=False)\n",
    "X_OH_fit = X_OneHot_model.fit(insurance_df[col_to_encode])\n",
    "\n",
    "\n",
    "df_encoded =  pd.DataFrame(X_OneHot_model.transform(insurance_df[col_to_encode]), columns=X_OneHot_model.get_feature_names_out())\n",
    "df1 = df1.drop(col_to_encode, axis=1).merge(df_encoded, left_index=True, right_index=True)\n"
   ]
  },
  {
   "cell_type": "code",
   "execution_count": 10,
   "id": "6b20fca8",
   "metadata": {},
   "outputs": [
    {
     "data": {
      "text/html": [
       "<div>\n",
       "<style scoped>\n",
       "    .dataframe tbody tr th:only-of-type {\n",
       "        vertical-align: middle;\n",
       "    }\n",
       "\n",
       "    .dataframe tbody tr th {\n",
       "        vertical-align: top;\n",
       "    }\n",
       "\n",
       "    .dataframe thead th {\n",
       "        text-align: right;\n",
       "    }\n",
       "</style>\n",
       "<table border=\"1\" class=\"dataframe\">\n",
       "  <thead>\n",
       "    <tr style=\"text-align: right;\">\n",
       "      <th></th>\n",
       "      <th>age</th>\n",
       "      <th>bmi</th>\n",
       "      <th>children</th>\n",
       "      <th>charges</th>\n",
       "      <th>sex_female</th>\n",
       "      <th>sex_male</th>\n",
       "      <th>smoker_no</th>\n",
       "      <th>smoker_yes</th>\n",
       "      <th>region_northeast</th>\n",
       "      <th>region_northwest</th>\n",
       "      <th>region_southeast</th>\n",
       "      <th>region_southwest</th>\n",
       "    </tr>\n",
       "  </thead>\n",
       "  <tbody>\n",
       "    <tr>\n",
       "      <th>0</th>\n",
       "      <td>19</td>\n",
       "      <td>27.900</td>\n",
       "      <td>0</td>\n",
       "      <td>16884.92</td>\n",
       "      <td>1.0</td>\n",
       "      <td>0.0</td>\n",
       "      <td>0.0</td>\n",
       "      <td>1.0</td>\n",
       "      <td>0.0</td>\n",
       "      <td>0.0</td>\n",
       "      <td>0.0</td>\n",
       "      <td>1.0</td>\n",
       "    </tr>\n",
       "    <tr>\n",
       "      <th>1</th>\n",
       "      <td>18</td>\n",
       "      <td>33.770</td>\n",
       "      <td>1</td>\n",
       "      <td>1725.55</td>\n",
       "      <td>0.0</td>\n",
       "      <td>1.0</td>\n",
       "      <td>1.0</td>\n",
       "      <td>0.0</td>\n",
       "      <td>0.0</td>\n",
       "      <td>0.0</td>\n",
       "      <td>1.0</td>\n",
       "      <td>0.0</td>\n",
       "    </tr>\n",
       "    <tr>\n",
       "      <th>2</th>\n",
       "      <td>28</td>\n",
       "      <td>33.000</td>\n",
       "      <td>3</td>\n",
       "      <td>4449.46</td>\n",
       "      <td>0.0</td>\n",
       "      <td>1.0</td>\n",
       "      <td>1.0</td>\n",
       "      <td>0.0</td>\n",
       "      <td>0.0</td>\n",
       "      <td>0.0</td>\n",
       "      <td>1.0</td>\n",
       "      <td>0.0</td>\n",
       "    </tr>\n",
       "    <tr>\n",
       "      <th>3</th>\n",
       "      <td>33</td>\n",
       "      <td>22.705</td>\n",
       "      <td>0</td>\n",
       "      <td>21984.47</td>\n",
       "      <td>0.0</td>\n",
       "      <td>1.0</td>\n",
       "      <td>1.0</td>\n",
       "      <td>0.0</td>\n",
       "      <td>0.0</td>\n",
       "      <td>1.0</td>\n",
       "      <td>0.0</td>\n",
       "      <td>0.0</td>\n",
       "    </tr>\n",
       "    <tr>\n",
       "      <th>4</th>\n",
       "      <td>32</td>\n",
       "      <td>28.880</td>\n",
       "      <td>0</td>\n",
       "      <td>3866.86</td>\n",
       "      <td>0.0</td>\n",
       "      <td>1.0</td>\n",
       "      <td>1.0</td>\n",
       "      <td>0.0</td>\n",
       "      <td>0.0</td>\n",
       "      <td>1.0</td>\n",
       "      <td>0.0</td>\n",
       "      <td>0.0</td>\n",
       "    </tr>\n",
       "  </tbody>\n",
       "</table>\n",
       "</div>"
      ],
      "text/plain": [
       "   age     bmi  children   charges  sex_female  sex_male  smoker_no  \\\n",
       "0   19  27.900         0  16884.92         1.0       0.0        0.0   \n",
       "1   18  33.770         1   1725.55         0.0       1.0        1.0   \n",
       "2   28  33.000         3   4449.46         0.0       1.0        1.0   \n",
       "3   33  22.705         0  21984.47         0.0       1.0        1.0   \n",
       "4   32  28.880         0   3866.86         0.0       1.0        1.0   \n",
       "\n",
       "   smoker_yes  region_northeast  region_northwest  region_southeast  \\\n",
       "0         1.0               0.0               0.0               0.0   \n",
       "1         0.0               0.0               0.0               1.0   \n",
       "2         0.0               0.0               0.0               1.0   \n",
       "3         0.0               0.0               1.0               0.0   \n",
       "4         0.0               0.0               1.0               0.0   \n",
       "\n",
       "   region_southwest  \n",
       "0               1.0  \n",
       "1               0.0  \n",
       "2               0.0  \n",
       "3               0.0  \n",
       "4               0.0  "
      ]
     },
     "execution_count": 10,
     "metadata": {},
     "output_type": "execute_result"
    }
   ],
   "source": [
    "df1.head()"
   ]
  },
  {
   "cell_type": "code",
   "execution_count": 11,
   "id": "4bec1ed0",
   "metadata": {},
   "outputs": [],
   "source": [
    "X_min_max_scaler = MinMaxScaler()\n",
    "X_fit_scaler = X_min_max_scaler.fit(df1[['age','bmi','children']])\n",
    "df1[['age','bmi','children']] = X_fit_scaler.transform(df1[['age','bmi','children']])\n"
   ]
  },
  {
   "cell_type": "code",
   "execution_count": 12,
   "id": "bd5ffab7",
   "metadata": {},
   "outputs": [
    {
     "data": {
      "text/html": [
       "<div>\n",
       "<style scoped>\n",
       "    .dataframe tbody tr th:only-of-type {\n",
       "        vertical-align: middle;\n",
       "    }\n",
       "\n",
       "    .dataframe tbody tr th {\n",
       "        vertical-align: top;\n",
       "    }\n",
       "\n",
       "    .dataframe thead th {\n",
       "        text-align: right;\n",
       "    }\n",
       "</style>\n",
       "<table border=\"1\" class=\"dataframe\">\n",
       "  <thead>\n",
       "    <tr style=\"text-align: right;\">\n",
       "      <th></th>\n",
       "      <th>age</th>\n",
       "      <th>bmi</th>\n",
       "      <th>children</th>\n",
       "      <th>sex_female</th>\n",
       "      <th>sex_male</th>\n",
       "      <th>smoker_no</th>\n",
       "      <th>smoker_yes</th>\n",
       "      <th>region_northeast</th>\n",
       "      <th>region_northwest</th>\n",
       "      <th>region_southeast</th>\n",
       "      <th>region_southwest</th>\n",
       "    </tr>\n",
       "  </thead>\n",
       "  <tbody>\n",
       "    <tr>\n",
       "      <th>0</th>\n",
       "      <td>0.021739</td>\n",
       "      <td>0.321227</td>\n",
       "      <td>0.0</td>\n",
       "      <td>1.0</td>\n",
       "      <td>0.0</td>\n",
       "      <td>0.0</td>\n",
       "      <td>1.0</td>\n",
       "      <td>0.0</td>\n",
       "      <td>0.0</td>\n",
       "      <td>0.0</td>\n",
       "      <td>1.0</td>\n",
       "    </tr>\n",
       "    <tr>\n",
       "      <th>1</th>\n",
       "      <td>0.000000</td>\n",
       "      <td>0.479150</td>\n",
       "      <td>0.2</td>\n",
       "      <td>0.0</td>\n",
       "      <td>1.0</td>\n",
       "      <td>1.0</td>\n",
       "      <td>0.0</td>\n",
       "      <td>0.0</td>\n",
       "      <td>0.0</td>\n",
       "      <td>1.0</td>\n",
       "      <td>0.0</td>\n",
       "    </tr>\n",
       "    <tr>\n",
       "      <th>2</th>\n",
       "      <td>0.217391</td>\n",
       "      <td>0.458434</td>\n",
       "      <td>0.6</td>\n",
       "      <td>0.0</td>\n",
       "      <td>1.0</td>\n",
       "      <td>1.0</td>\n",
       "      <td>0.0</td>\n",
       "      <td>0.0</td>\n",
       "      <td>0.0</td>\n",
       "      <td>1.0</td>\n",
       "      <td>0.0</td>\n",
       "    </tr>\n",
       "    <tr>\n",
       "      <th>3</th>\n",
       "      <td>0.326087</td>\n",
       "      <td>0.181464</td>\n",
       "      <td>0.0</td>\n",
       "      <td>0.0</td>\n",
       "      <td>1.0</td>\n",
       "      <td>1.0</td>\n",
       "      <td>0.0</td>\n",
       "      <td>0.0</td>\n",
       "      <td>1.0</td>\n",
       "      <td>0.0</td>\n",
       "      <td>0.0</td>\n",
       "    </tr>\n",
       "    <tr>\n",
       "      <th>4</th>\n",
       "      <td>0.304348</td>\n",
       "      <td>0.347592</td>\n",
       "      <td>0.0</td>\n",
       "      <td>0.0</td>\n",
       "      <td>1.0</td>\n",
       "      <td>1.0</td>\n",
       "      <td>0.0</td>\n",
       "      <td>0.0</td>\n",
       "      <td>1.0</td>\n",
       "      <td>0.0</td>\n",
       "      <td>0.0</td>\n",
       "    </tr>\n",
       "  </tbody>\n",
       "</table>\n",
       "</div>"
      ],
      "text/plain": [
       "        age       bmi  children  sex_female  sex_male  smoker_no  smoker_yes  \\\n",
       "0  0.021739  0.321227       0.0         1.0       0.0        0.0         1.0   \n",
       "1  0.000000  0.479150       0.2         0.0       1.0        1.0         0.0   \n",
       "2  0.217391  0.458434       0.6         0.0       1.0        1.0         0.0   \n",
       "3  0.326087  0.181464       0.0         0.0       1.0        1.0         0.0   \n",
       "4  0.304348  0.347592       0.0         0.0       1.0        1.0         0.0   \n",
       "\n",
       "   region_northeast  region_northwest  region_southeast  region_southwest  \n",
       "0               0.0               0.0               0.0               1.0  \n",
       "1               0.0               0.0               1.0               0.0  \n",
       "2               0.0               0.0               1.0               0.0  \n",
       "3               0.0               1.0               0.0               0.0  \n",
       "4               0.0               1.0               0.0               0.0  "
      ]
     },
     "execution_count": 12,
     "metadata": {},
     "output_type": "execute_result"
    }
   ],
   "source": [
    "X = df1.drop('charges', axis = 1)\n",
    "X.head(5)"
   ]
  },
  {
   "cell_type": "code",
   "execution_count": 13,
   "id": "5b764292",
   "metadata": {},
   "outputs": [
    {
     "data": {
      "text/plain": [
       "array([[0.25161073, 0.00963598, 0.05311519, ..., 0.00810809, 0.01414366,\n",
       "        0.44724875]])"
      ]
     },
     "execution_count": 13,
     "metadata": {},
     "output_type": "execute_result"
    }
   ],
   "source": [
    "y_min_max_scaler = MinMaxScaler()\n",
    "y_fit_scaler = y_min_max_scaler.fit(df1[['charges']])\n",
    "y = y_fit_scaler.transform(df1[['charges']])\n",
    "y.ravel().reshape(1,-1)"
   ]
  },
  {
   "cell_type": "code",
   "execution_count": 14,
   "id": "56be7df2",
   "metadata": {},
   "outputs": [
    {
     "name": "stdout",
     "output_type": "stream",
     "text": [
      "(1003, 11) (335, 11) (1003, 1) (335, 1)\n"
     ]
    }
   ],
   "source": [
    "X_train, X_test, y_train, y_test = train_test_split(X, y, random_state = 123)\n",
    "print(X_train.shape, X_test.shape, y_train.shape, y_test.shape)"
   ]
  },
  {
   "cell_type": "code",
   "execution_count": 15,
   "id": "7d72921f",
   "metadata": {},
   "outputs": [
    {
     "name": "stderr",
     "output_type": "stream",
     "text": [
      "WARNING:absl:At this time, the v2.11+ optimizer `tf.keras.optimizers.Adam` runs slowly on M1/M2 Macs, please use the legacy Keras optimizer instead, located at `tf.keras.optimizers.legacy.Adam`.\n"
     ]
    },
    {
     "data": {
      "text/plain": [
       "<keras.src.engine.sequential.Sequential at 0x172db13d0>"
      ]
     },
     "execution_count": 15,
     "metadata": {},
     "output_type": "execute_result"
    }
   ],
   "source": [
    "def build_model(hp):\n",
    "    model = keras.Sequential()\n",
    "    model.add(layers.Flatten())\n",
    "    # Tune the number of layers.\n",
    "    for i in range(hp.Int(\"num_layers\", 2, 8)):\n",
    "        model.add(\n",
    "            layers.Dense(\n",
    "                units=hp.Int(f\"units_{i}\", min_value=12, max_value=144, step=12),\n",
    "                activation=hp.Choice(\"activation\", [\"relu\", \"tanh\", \"sigmoid\", \"elu\"]),\n",
    "                input_dim = X_train.shape[1]\n",
    "            )\n",
    "        )\n",
    "\n",
    "    if hp.Boolean(\"dropout\"):\n",
    "        model.add(layers.Dropout(rate=0.25))\n",
    "\n",
    "    model.add(layers.Dense(1, activation=\"linear\"))\n",
    "\n",
    "    learning_rate = hp.Float(\"learning_rate\", min_value=1e-4, max_value=1e-2, sampling=\"log\")\n",
    "\n",
    "    model.compile(\n",
    "        optimizer=keras.optimizers.Adam(learning_rate=learning_rate),\n",
    "        loss = \"mean_absolute_error\",\n",
    "        metrics=['mean_absolute_error']\n",
    "    )\n",
    "\n",
    "    return model\n",
    "\n",
    "build_model(keras_tuner.HyperParameters())"
   ]
  },
  {
   "cell_type": "code",
   "execution_count": 16,
   "id": "7dc3c9b6",
   "metadata": {},
   "outputs": [
    {
     "name": "stderr",
     "output_type": "stream",
     "text": [
      "WARNING:absl:At this time, the v2.11+ optimizer `tf.keras.optimizers.Adam` runs slowly on M1/M2 Macs, please use the legacy Keras optimizer instead, located at `tf.keras.optimizers.legacy.Adam`.\n"
     ]
    }
   ],
   "source": [
    "tuner = keras_tuner.RandomSearch(\n",
    "    hypermodel=build_model,\n",
    "    objective=keras_tuner.Objective(\"val_mean_absolute_error\", direction=\"min\"),\n",
    "    max_trials=3,\n",
    "    executions_per_trial=3,\n",
    "    tune_new_entries=True,\n",
    "    allow_new_entries=True,\n",
    "    max_retries_per_trial=5,\n",
    "    max_consecutive_failed_trials=3,\n",
    "    overwrite=True,\n",
    "    directory=\"ins_dir\",\n",
    "    project_name=\"Tuning Insrance Pred Model\",\n",
    "    seed = 42\n",
    ")"
   ]
  },
  {
   "cell_type": "code",
   "execution_count": 17,
   "id": "f6f3a7ab",
   "metadata": {},
   "outputs": [
    {
     "name": "stdout",
     "output_type": "stream",
     "text": [
      "Search space summary\n",
      "Default search space size: 6\n",
      "num_layers (Int)\n",
      "{'default': None, 'conditions': [], 'min_value': 2, 'max_value': 8, 'step': 1, 'sampling': 'linear'}\n",
      "units_0 (Int)\n",
      "{'default': None, 'conditions': [], 'min_value': 12, 'max_value': 144, 'step': 12, 'sampling': 'linear'}\n",
      "activation (Choice)\n",
      "{'default': 'relu', 'conditions': [], 'values': ['relu', 'tanh', 'sigmoid', 'elu'], 'ordered': False}\n",
      "units_1 (Int)\n",
      "{'default': None, 'conditions': [], 'min_value': 12, 'max_value': 144, 'step': 12, 'sampling': 'linear'}\n",
      "dropout (Boolean)\n",
      "{'default': False, 'conditions': []}\n",
      "learning_rate (Float)\n",
      "{'default': 0.0001, 'conditions': [], 'min_value': 0.0001, 'max_value': 0.01, 'step': None, 'sampling': 'log'}\n"
     ]
    }
   ],
   "source": [
    "tuner.search_space_summary()"
   ]
  },
  {
   "cell_type": "code",
   "execution_count": null,
   "id": "1c988c82",
   "metadata": {},
   "outputs": [],
   "source": [
    "!rm -rf ./logs/\n",
    "%load_ext tensorboard"
   ]
  },
  {
   "cell_type": "code",
   "execution_count": 18,
   "id": "f2ce34e6",
   "metadata": {},
   "outputs": [],
   "source": [
    "logdir_tune = os.path.join(\"logs\", \"logs_tune\", datetime.datetime.now().strftime(\"%Y%m%d-%H%M%S\"))\n",
    "tensorboard_callback_tune = tf.keras.callbacks.TensorBoard(logdir_tune, histogram_freq=1, write_images=True, update_freq='epoch')"
   ]
  },
  {
   "cell_type": "code",
   "execution_count": 19,
   "id": "6f9b8742",
   "metadata": {},
   "outputs": [],
   "source": [
    "logdir_train = os.path.join(\"logs\", \"logs_train\", datetime.datetime.now().strftime(\"%Y%m%d-%H%M%S\"))\n",
    "tensorboard_callback_train = tf.keras.callbacks.TensorBoard(logdir_train, histogram_freq=1, write_images=True, update_freq='epoch')"
   ]
  },
  {
   "cell_type": "code",
   "execution_count": 22,
   "id": "3aa9c658",
   "metadata": {},
   "outputs": [
    {
     "name": "stdout",
     "output_type": "stream",
     "text": [
      ">>> total time spent for searching ::  0.0014681816101074219 seconds\n"
     ]
    }
   ],
   "source": [
    "import time\n",
    "start_time = time.time()\n",
    "tuner.search(X_train, y_train,\n",
    "             epochs=4,\n",
    "             validation_split = 0.15,\n",
    "             use_multiprocessing=True,\n",
    "             verbose = 2,\n",
    "             callbacks=[tensorboard_callback_tune])\n",
    "\n",
    "print('>>> total time spent for searching :: ', time.time() - start_time, 'seconds')"
   ]
  },
  {
   "cell_type": "code",
   "execution_count": 23,
   "id": "84eb744b",
   "metadata": {},
   "outputs": [
    {
     "name": "stderr",
     "output_type": "stream",
     "text": [
      "WARNING:absl:At this time, the v2.11+ optimizer `tf.keras.optimizers.Adam` runs slowly on M1/M2 Macs, please use the legacy Keras optimizer instead, located at `tf.keras.optimizers.legacy.Adam`.\n"
     ]
    }
   ],
   "source": [
    "best_models = tuner.get_best_models()[0]\n",
    "best_models.build(X_train.shape)"
   ]
  },
  {
   "cell_type": "code",
   "execution_count": 24,
   "id": "3e13d48a",
   "metadata": {},
   "outputs": [
    {
     "name": "stdout",
     "output_type": "stream",
     "text": [
      "Model: \"sequential\"\n",
      "_________________________________________________________________\n",
      " Layer (type)                Output Shape              Param #   \n",
      "=================================================================\n",
      " flatten (Flatten)           (1003, 11)                0         \n",
      "                                                                 \n",
      " dense (Dense)               (1003, 36)                432       \n",
      "                                                                 \n",
      " dense_1 (Dense)             (1003, 72)                2664      \n",
      "                                                                 \n",
      " dense_2 (Dense)             (1003, 72)                5256      \n",
      "                                                                 \n",
      " dense_3 (Dense)             (1003, 60)                4380      \n",
      "                                                                 \n",
      " dense_4 (Dense)             (1003, 12)                732       \n",
      "                                                                 \n",
      " dense_5 (Dense)             (1003, 12)                156       \n",
      "                                                                 \n",
      " dropout (Dropout)           (1003, 12)                0         \n",
      "                                                                 \n",
      " dense_6 (Dense)             (1003, 1)                 13        \n",
      "                                                                 \n",
      "=================================================================\n",
      "Total params: 13633 (53.25 KB)\n",
      "Trainable params: 13633 (53.25 KB)\n",
      "Non-trainable params: 0 (0.00 Byte)\n",
      "_________________________________________________________________\n"
     ]
    }
   ],
   "source": [
    "best_models.summary()"
   ]
  },
  {
   "cell_type": "code",
   "execution_count": null,
   "id": "7bddde71",
   "metadata": {},
   "outputs": [],
   "source": [
    "%tensorboard --logdir logs/logs_tune"
   ]
  },
  {
   "cell_type": "code",
   "execution_count": 25,
   "id": "ff4d23b9",
   "metadata": {},
   "outputs": [
    {
     "name": "stdout",
     "output_type": "stream",
     "text": [
      "Results summary\n",
      "Results in ins_dir/Tuning Insrance Pred Model\n",
      "Showing 10 best trials\n",
      "Objective(name=\"val_mean_absolute_error\", direction=\"min\")\n",
      "\n",
      "Trial 2 summary\n",
      "Hyperparameters:\n",
      "num_layers: 6\n",
      "units_0: 36\n",
      "activation: tanh\n",
      "units_1: 72\n",
      "dropout: True\n",
      "learning_rate: 0.0007767449713530701\n",
      "units_2: 72\n",
      "units_3: 60\n",
      "units_4: 12\n",
      "units_5: 12\n",
      "Score: 0.0711052268743515\n",
      "\n",
      "Trial 1 summary\n",
      "Hyperparameters:\n",
      "num_layers: 5\n",
      "units_0: 12\n",
      "activation: tanh\n",
      "units_1: 36\n",
      "dropout: True\n",
      "learning_rate: 0.001715074355925934\n",
      "units_2: 132\n",
      "units_3: 24\n",
      "units_4: 144\n",
      "units_5: 12\n",
      "Score: 0.07506890594959259\n",
      "\n",
      "Trial 0 summary\n",
      "Hyperparameters:\n",
      "num_layers: 6\n",
      "units_0: 12\n",
      "activation: tanh\n",
      "units_1: 48\n",
      "dropout: True\n",
      "learning_rate: 0.000505466655750672\n",
      "units_2: 12\n",
      "units_3: 12\n",
      "units_4: 12\n",
      "units_5: 12\n",
      "Score: 0.08923016985257466\n"
     ]
    }
   ],
   "source": [
    "tuner.results_summary()"
   ]
  },
  {
   "cell_type": "code",
   "execution_count": 26,
   "id": "d484ef44",
   "metadata": {},
   "outputs": [
    {
     "name": "stdout",
     "output_type": "stream",
     "text": [
      "Model: \"sequential\"\n",
      "_________________________________________________________________\n",
      " Layer (type)                Output Shape              Param #   \n",
      "=================================================================\n",
      " flatten (Flatten)           (1003, 11)                0         \n",
      "                                                                 \n",
      " dense (Dense)               (1003, 36)                432       \n",
      "                                                                 \n",
      " dense_1 (Dense)             (1003, 72)                2664      \n",
      "                                                                 \n",
      " dense_2 (Dense)             (1003, 72)                5256      \n",
      "                                                                 \n",
      " dense_3 (Dense)             (1003, 60)                4380      \n",
      "                                                                 \n",
      " dense_4 (Dense)             (1003, 12)                732       \n",
      "                                                                 \n",
      " dense_5 (Dense)             (1003, 12)                156       \n",
      "                                                                 \n",
      " dropout (Dropout)           (1003, 12)                0         \n",
      "                                                                 \n",
      " dense_6 (Dense)             (1003, 1)                 13        \n",
      "                                                                 \n",
      "=================================================================\n",
      "Total params: 13633 (53.25 KB)\n",
      "Trainable params: 13633 (53.25 KB)\n",
      "Non-trainable params: 0 (0.00 Byte)\n",
      "_________________________________________________________________\n"
     ]
    }
   ],
   "source": [
    "best_models.summary()"
   ]
  },
  {
   "cell_type": "code",
   "execution_count": null,
   "id": "fef9fc7d",
   "metadata": {},
   "outputs": [],
   "source": [
    "!rm -rf logs/logs_train/"
   ]
  },
  {
   "cell_type": "code",
   "execution_count": 27,
   "id": "fdbde6ea",
   "metadata": {},
   "outputs": [],
   "source": [
    "early_stopping = tf.keras.callbacks.EarlyStopping(\n",
    "    monitor='mean_absolute_error',\n",
    "    min_delta=0,\n",
    "    patience=20,\n",
    "    verbose=1,\n",
    "    mode='auto',\n",
    "    baseline=None,\n",
    "    restore_best_weights=False,\n",
    "    start_from_epoch=0\n",
    ")"
   ]
  },
  {
   "cell_type": "code",
   "execution_count": 28,
   "id": "99b295b1",
   "metadata": {},
   "outputs": [
    {
     "name": "stdout",
     "output_type": "stream",
     "text": [
      "Epoch 1/500\n",
      "7/7 [==============================] - 0s 17ms/step - loss: 0.0753 - mean_absolute_error: 0.0753 - val_loss: 0.0719 - val_mean_absolute_error: 0.0719\n",
      "Epoch 2/500\n",
      "7/7 [==============================] - 0s 7ms/step - loss: 0.0696 - mean_absolute_error: 0.0696 - val_loss: 0.0665 - val_mean_absolute_error: 0.0665\n",
      "Epoch 3/500\n",
      "7/7 [==============================] - 0s 7ms/step - loss: 0.0672 - mean_absolute_error: 0.0672 - val_loss: 0.0655 - val_mean_absolute_error: 0.0655\n",
      "Epoch 4/500\n",
      "7/7 [==============================] - 0s 7ms/step - loss: 0.0667 - mean_absolute_error: 0.0667 - val_loss: 0.0713 - val_mean_absolute_error: 0.0713\n",
      "Epoch 5/500\n",
      "7/7 [==============================] - 0s 7ms/step - loss: 0.0682 - mean_absolute_error: 0.0682 - val_loss: 0.0720 - val_mean_absolute_error: 0.0720\n",
      "Epoch 6/500\n",
      "7/7 [==============================] - 0s 7ms/step - loss: 0.0709 - mean_absolute_error: 0.0709 - val_loss: 0.0643 - val_mean_absolute_error: 0.0643\n",
      "Epoch 7/500\n",
      "7/7 [==============================] - 0s 7ms/step - loss: 0.0669 - mean_absolute_error: 0.0669 - val_loss: 0.0622 - val_mean_absolute_error: 0.0622\n",
      "Epoch 8/500\n",
      "7/7 [==============================] - 0s 7ms/step - loss: 0.0637 - mean_absolute_error: 0.0637 - val_loss: 0.0629 - val_mean_absolute_error: 0.0629\n",
      "Epoch 9/500\n",
      "7/7 [==============================] - 0s 7ms/step - loss: 0.0664 - mean_absolute_error: 0.0664 - val_loss: 0.0706 - val_mean_absolute_error: 0.0706\n",
      "Epoch 10/500\n",
      "7/7 [==============================] - 0s 7ms/step - loss: 0.0684 - mean_absolute_error: 0.0684 - val_loss: 0.0612 - val_mean_absolute_error: 0.0612\n",
      "Epoch 11/500\n",
      "7/7 [==============================] - 0s 7ms/step - loss: 0.0636 - mean_absolute_error: 0.0636 - val_loss: 0.0623 - val_mean_absolute_error: 0.0623\n",
      "Epoch 12/500\n",
      "7/7 [==============================] - 0s 7ms/step - loss: 0.0656 - mean_absolute_error: 0.0656 - val_loss: 0.0620 - val_mean_absolute_error: 0.0620\n",
      "Epoch 13/500\n",
      "7/7 [==============================] - 0s 7ms/step - loss: 0.0699 - mean_absolute_error: 0.0699 - val_loss: 0.0618 - val_mean_absolute_error: 0.0618\n",
      "Epoch 14/500\n",
      "7/7 [==============================] - 0s 7ms/step - loss: 0.0642 - mean_absolute_error: 0.0642 - val_loss: 0.0610 - val_mean_absolute_error: 0.0610\n",
      "Epoch 15/500\n",
      "7/7 [==============================] - 0s 9ms/step - loss: 0.0630 - mean_absolute_error: 0.0630 - val_loss: 0.0594 - val_mean_absolute_error: 0.0594\n",
      "Epoch 16/500\n",
      "7/7 [==============================] - 0s 7ms/step - loss: 0.0581 - mean_absolute_error: 0.0581 - val_loss: 0.0616 - val_mean_absolute_error: 0.0616\n",
      "Epoch 17/500\n",
      "7/7 [==============================] - 0s 7ms/step - loss: 0.0629 - mean_absolute_error: 0.0629 - val_loss: 0.0601 - val_mean_absolute_error: 0.0601\n",
      "Epoch 18/500\n",
      "7/7 [==============================] - 0s 7ms/step - loss: 0.0632 - mean_absolute_error: 0.0632 - val_loss: 0.0630 - val_mean_absolute_error: 0.0630\n",
      "Epoch 19/500\n",
      "7/7 [==============================] - 0s 8ms/step - loss: 0.0593 - mean_absolute_error: 0.0593 - val_loss: 0.0627 - val_mean_absolute_error: 0.0627\n",
      "Epoch 20/500\n",
      "7/7 [==============================] - 0s 8ms/step - loss: 0.0616 - mean_absolute_error: 0.0616 - val_loss: 0.0603 - val_mean_absolute_error: 0.0603\n",
      "Epoch 21/500\n",
      "7/7 [==============================] - 0s 8ms/step - loss: 0.0610 - mean_absolute_error: 0.0610 - val_loss: 0.0595 - val_mean_absolute_error: 0.0595\n",
      "Epoch 22/500\n",
      "7/7 [==============================] - 0s 7ms/step - loss: 0.0597 - mean_absolute_error: 0.0597 - val_loss: 0.0600 - val_mean_absolute_error: 0.0600\n",
      "Epoch 23/500\n",
      "7/7 [==============================] - 0s 7ms/step - loss: 0.0611 - mean_absolute_error: 0.0611 - val_loss: 0.0632 - val_mean_absolute_error: 0.0632\n",
      "Epoch 24/500\n",
      "7/7 [==============================] - 0s 7ms/step - loss: 0.0611 - mean_absolute_error: 0.0611 - val_loss: 0.0636 - val_mean_absolute_error: 0.0636\n",
      "Epoch 25/500\n",
      "7/7 [==============================] - 0s 8ms/step - loss: 0.0584 - mean_absolute_error: 0.0584 - val_loss: 0.0638 - val_mean_absolute_error: 0.0638\n",
      "Epoch 26/500\n",
      "7/7 [==============================] - 0s 8ms/step - loss: 0.0596 - mean_absolute_error: 0.0596 - val_loss: 0.0590 - val_mean_absolute_error: 0.0590\n",
      "Epoch 27/500\n",
      "7/7 [==============================] - 0s 9ms/step - loss: 0.0577 - mean_absolute_error: 0.0577 - val_loss: 0.0551 - val_mean_absolute_error: 0.0551\n",
      "Epoch 28/500\n",
      "7/7 [==============================] - 0s 8ms/step - loss: 0.0570 - mean_absolute_error: 0.0570 - val_loss: 0.0551 - val_mean_absolute_error: 0.0551\n",
      "Epoch 29/500\n",
      "7/7 [==============================] - 0s 8ms/step - loss: 0.0589 - mean_absolute_error: 0.0589 - val_loss: 0.0575 - val_mean_absolute_error: 0.0575\n",
      "Epoch 30/500\n",
      "7/7 [==============================] - 0s 8ms/step - loss: 0.0589 - mean_absolute_error: 0.0589 - val_loss: 0.0584 - val_mean_absolute_error: 0.0584\n",
      "Epoch 31/500\n",
      "7/7 [==============================] - 0s 8ms/step - loss: 0.0626 - mean_absolute_error: 0.0626 - val_loss: 0.0622 - val_mean_absolute_error: 0.0622\n",
      "Epoch 32/500\n",
      "7/7 [==============================] - 0s 7ms/step - loss: 0.0622 - mean_absolute_error: 0.0622 - val_loss: 0.0673 - val_mean_absolute_error: 0.0673\n",
      "Epoch 33/500\n",
      "7/7 [==============================] - 0s 7ms/step - loss: 0.0647 - mean_absolute_error: 0.0647 - val_loss: 0.0567 - val_mean_absolute_error: 0.0567\n",
      "Epoch 34/500\n",
      "7/7 [==============================] - 0s 7ms/step - loss: 0.0616 - mean_absolute_error: 0.0616 - val_loss: 0.0628 - val_mean_absolute_error: 0.0628\n",
      "Epoch 35/500\n",
      "7/7 [==============================] - 0s 7ms/step - loss: 0.0588 - mean_absolute_error: 0.0588 - val_loss: 0.0534 - val_mean_absolute_error: 0.0534\n",
      "Epoch 36/500\n",
      "7/7 [==============================] - 0s 7ms/step - loss: 0.0573 - mean_absolute_error: 0.0573 - val_loss: 0.0517 - val_mean_absolute_error: 0.0517\n",
      "Epoch 37/500\n",
      "7/7 [==============================] - 0s 7ms/step - loss: 0.0546 - mean_absolute_error: 0.0546 - val_loss: 0.0518 - val_mean_absolute_error: 0.0518\n",
      "Epoch 38/500\n",
      "7/7 [==============================] - 0s 7ms/step - loss: 0.0542 - mean_absolute_error: 0.0542 - val_loss: 0.0530 - val_mean_absolute_error: 0.0530\n",
      "Epoch 39/500\n",
      "7/7 [==============================] - 0s 8ms/step - loss: 0.0543 - mean_absolute_error: 0.0543 - val_loss: 0.0514 - val_mean_absolute_error: 0.0514\n",
      "Epoch 40/500\n",
      "7/7 [==============================] - 0s 8ms/step - loss: 0.0559 - mean_absolute_error: 0.0559 - val_loss: 0.0508 - val_mean_absolute_error: 0.0508\n",
      "Epoch 41/500\n",
      "7/7 [==============================] - 0s 8ms/step - loss: 0.0522 - mean_absolute_error: 0.0522 - val_loss: 0.0496 - val_mean_absolute_error: 0.0496\n",
      "Epoch 42/500\n",
      "7/7 [==============================] - 0s 8ms/step - loss: 0.0549 - mean_absolute_error: 0.0549 - val_loss: 0.0479 - val_mean_absolute_error: 0.0479\n",
      "Epoch 43/500\n",
      "7/7 [==============================] - 0s 8ms/step - loss: 0.0533 - mean_absolute_error: 0.0533 - val_loss: 0.0479 - val_mean_absolute_error: 0.0479\n",
      "Epoch 44/500\n",
      "7/7 [==============================] - 0s 7ms/step - loss: 0.0515 - mean_absolute_error: 0.0515 - val_loss: 0.0560 - val_mean_absolute_error: 0.0560\n",
      "Epoch 45/500\n",
      "7/7 [==============================] - 0s 7ms/step - loss: 0.0515 - mean_absolute_error: 0.0515 - val_loss: 0.0484 - val_mean_absolute_error: 0.0484\n",
      "Epoch 46/500\n",
      "7/7 [==============================] - 0s 7ms/step - loss: 0.0521 - mean_absolute_error: 0.0521 - val_loss: 0.0482 - val_mean_absolute_error: 0.0482\n",
      "Epoch 47/500\n",
      "7/7 [==============================] - 0s 7ms/step - loss: 0.0503 - mean_absolute_error: 0.0503 - val_loss: 0.0460 - val_mean_absolute_error: 0.0460\n",
      "Epoch 48/500\n",
      "7/7 [==============================] - 0s 7ms/step - loss: 0.0540 - mean_absolute_error: 0.0540 - val_loss: 0.0490 - val_mean_absolute_error: 0.0490\n",
      "Epoch 49/500\n",
      "7/7 [==============================] - 0s 7ms/step - loss: 0.0541 - mean_absolute_error: 0.0541 - val_loss: 0.0466 - val_mean_absolute_error: 0.0466\n",
      "Epoch 50/500\n",
      "7/7 [==============================] - 0s 7ms/step - loss: 0.0519 - mean_absolute_error: 0.0519 - val_loss: 0.0478 - val_mean_absolute_error: 0.0478\n",
      "Epoch 51/500\n"
     ]
    },
    {
     "name": "stdout",
     "output_type": "stream",
     "text": [
      "7/7 [==============================] - 0s 7ms/step - loss: 0.0554 - mean_absolute_error: 0.0554 - val_loss: 0.0454 - val_mean_absolute_error: 0.0454\n",
      "Epoch 52/500\n",
      "7/7 [==============================] - 0s 7ms/step - loss: 0.0519 - mean_absolute_error: 0.0519 - val_loss: 0.0503 - val_mean_absolute_error: 0.0503\n",
      "Epoch 53/500\n",
      "7/7 [==============================] - 0s 7ms/step - loss: 0.0557 - mean_absolute_error: 0.0557 - val_loss: 0.0515 - val_mean_absolute_error: 0.0515\n",
      "Epoch 54/500\n",
      "7/7 [==============================] - 0s 7ms/step - loss: 0.0586 - mean_absolute_error: 0.0586 - val_loss: 0.0517 - val_mean_absolute_error: 0.0517\n",
      "Epoch 55/500\n",
      "7/7 [==============================] - 0s 7ms/step - loss: 0.0534 - mean_absolute_error: 0.0534 - val_loss: 0.0460 - val_mean_absolute_error: 0.0460\n",
      "Epoch 56/500\n",
      "7/7 [==============================] - 0s 7ms/step - loss: 0.0524 - mean_absolute_error: 0.0524 - val_loss: 0.0491 - val_mean_absolute_error: 0.0491\n",
      "Epoch 57/500\n",
      "7/7 [==============================] - 0s 7ms/step - loss: 0.0524 - mean_absolute_error: 0.0524 - val_loss: 0.0513 - val_mean_absolute_error: 0.0513\n",
      "Epoch 58/500\n",
      "7/7 [==============================] - 0s 7ms/step - loss: 0.0530 - mean_absolute_error: 0.0530 - val_loss: 0.0504 - val_mean_absolute_error: 0.0504\n",
      "Epoch 59/500\n",
      "7/7 [==============================] - 0s 7ms/step - loss: 0.0556 - mean_absolute_error: 0.0556 - val_loss: 0.0500 - val_mean_absolute_error: 0.0500\n",
      "Epoch 60/500\n",
      "7/7 [==============================] - 0s 9ms/step - loss: 0.0555 - mean_absolute_error: 0.0555 - val_loss: 0.0454 - val_mean_absolute_error: 0.0454\n",
      "Epoch 61/500\n",
      "7/7 [==============================] - 0s 13ms/step - loss: 0.0503 - mean_absolute_error: 0.0503 - val_loss: 0.0452 - val_mean_absolute_error: 0.0452\n",
      "Epoch 62/500\n",
      "7/7 [==============================] - 0s 8ms/step - loss: 0.0538 - mean_absolute_error: 0.0538 - val_loss: 0.0484 - val_mean_absolute_error: 0.0484\n",
      "Epoch 63/500\n",
      "7/7 [==============================] - 0s 8ms/step - loss: 0.0527 - mean_absolute_error: 0.0527 - val_loss: 0.0452 - val_mean_absolute_error: 0.0452\n",
      "Epoch 64/500\n",
      "7/7 [==============================] - 0s 7ms/step - loss: 0.0507 - mean_absolute_error: 0.0507 - val_loss: 0.0482 - val_mean_absolute_error: 0.0482\n",
      "Epoch 65/500\n",
      "7/7 [==============================] - 0s 7ms/step - loss: 0.0504 - mean_absolute_error: 0.0504 - val_loss: 0.0435 - val_mean_absolute_error: 0.0435\n",
      "Epoch 66/500\n",
      "7/7 [==============================] - 0s 7ms/step - loss: 0.0495 - mean_absolute_error: 0.0495 - val_loss: 0.0448 - val_mean_absolute_error: 0.0448\n",
      "Epoch 67/500\n",
      "7/7 [==============================] - 0s 7ms/step - loss: 0.0514 - mean_absolute_error: 0.0514 - val_loss: 0.0458 - val_mean_absolute_error: 0.0458\n",
      "Epoch 68/500\n",
      "7/7 [==============================] - 0s 7ms/step - loss: 0.0514 - mean_absolute_error: 0.0514 - val_loss: 0.0436 - val_mean_absolute_error: 0.0436\n",
      "Epoch 69/500\n",
      "7/7 [==============================] - 0s 7ms/step - loss: 0.0484 - mean_absolute_error: 0.0484 - val_loss: 0.0430 - val_mean_absolute_error: 0.0430\n",
      "Epoch 70/500\n",
      "7/7 [==============================] - 0s 8ms/step - loss: 0.0485 - mean_absolute_error: 0.0485 - val_loss: 0.0438 - val_mean_absolute_error: 0.0438\n",
      "Epoch 71/500\n",
      "7/7 [==============================] - 0s 8ms/step - loss: 0.0472 - mean_absolute_error: 0.0472 - val_loss: 0.0440 - val_mean_absolute_error: 0.0440\n",
      "Epoch 72/500\n",
      "7/7 [==============================] - 0s 9ms/step - loss: 0.0469 - mean_absolute_error: 0.0469 - val_loss: 0.0439 - val_mean_absolute_error: 0.0439\n",
      "Epoch 73/500\n",
      "7/7 [==============================] - 0s 8ms/step - loss: 0.0507 - mean_absolute_error: 0.0507 - val_loss: 0.0472 - val_mean_absolute_error: 0.0472\n",
      "Epoch 74/500\n",
      "7/7 [==============================] - 0s 8ms/step - loss: 0.0496 - mean_absolute_error: 0.0496 - val_loss: 0.0442 - val_mean_absolute_error: 0.0442\n",
      "Epoch 75/500\n",
      "7/7 [==============================] - 0s 8ms/step - loss: 0.0502 - mean_absolute_error: 0.0502 - val_loss: 0.0446 - val_mean_absolute_error: 0.0446\n",
      "Epoch 76/500\n",
      "7/7 [==============================] - 0s 7ms/step - loss: 0.0494 - mean_absolute_error: 0.0494 - val_loss: 0.0428 - val_mean_absolute_error: 0.0428\n",
      "Epoch 77/500\n",
      "7/7 [==============================] - 0s 7ms/step - loss: 0.0475 - mean_absolute_error: 0.0475 - val_loss: 0.0451 - val_mean_absolute_error: 0.0451\n",
      "Epoch 78/500\n",
      "7/7 [==============================] - 0s 7ms/step - loss: 0.0512 - mean_absolute_error: 0.0512 - val_loss: 0.0439 - val_mean_absolute_error: 0.0439\n",
      "Epoch 79/500\n",
      "7/7 [==============================] - 0s 7ms/step - loss: 0.0497 - mean_absolute_error: 0.0497 - val_loss: 0.0441 - val_mean_absolute_error: 0.0441\n",
      "Epoch 80/500\n",
      "7/7 [==============================] - 0s 8ms/step - loss: 0.0513 - mean_absolute_error: 0.0513 - val_loss: 0.0427 - val_mean_absolute_error: 0.0427\n",
      "Epoch 81/500\n",
      "7/7 [==============================] - 0s 8ms/step - loss: 0.0511 - mean_absolute_error: 0.0511 - val_loss: 0.0431 - val_mean_absolute_error: 0.0431\n",
      "Epoch 82/500\n",
      "7/7 [==============================] - 0s 8ms/step - loss: 0.0508 - mean_absolute_error: 0.0508 - val_loss: 0.0482 - val_mean_absolute_error: 0.0482\n",
      "Epoch 83/500\n",
      "7/7 [==============================] - 0s 8ms/step - loss: 0.0514 - mean_absolute_error: 0.0514 - val_loss: 0.0452 - val_mean_absolute_error: 0.0452\n",
      "Epoch 84/500\n",
      "7/7 [==============================] - 0s 7ms/step - loss: 0.0478 - mean_absolute_error: 0.0478 - val_loss: 0.0439 - val_mean_absolute_error: 0.0439\n",
      "Epoch 85/500\n",
      "7/7 [==============================] - 0s 7ms/step - loss: 0.0508 - mean_absolute_error: 0.0508 - val_loss: 0.0431 - val_mean_absolute_error: 0.0431\n",
      "Epoch 86/500\n",
      "7/7 [==============================] - 0s 7ms/step - loss: 0.0464 - mean_absolute_error: 0.0464 - val_loss: 0.0437 - val_mean_absolute_error: 0.0437\n",
      "Epoch 87/500\n",
      "7/7 [==============================] - 0s 7ms/step - loss: 0.0476 - mean_absolute_error: 0.0476 - val_loss: 0.0438 - val_mean_absolute_error: 0.0438\n",
      "Epoch 88/500\n",
      "7/7 [==============================] - 0s 7ms/step - loss: 0.0492 - mean_absolute_error: 0.0492 - val_loss: 0.0467 - val_mean_absolute_error: 0.0467\n",
      "Epoch 89/500\n",
      "7/7 [==============================] - 0s 7ms/step - loss: 0.0488 - mean_absolute_error: 0.0488 - val_loss: 0.0445 - val_mean_absolute_error: 0.0445\n",
      "Epoch 90/500\n",
      "7/7 [==============================] - 0s 7ms/step - loss: 0.0457 - mean_absolute_error: 0.0457 - val_loss: 0.0430 - val_mean_absolute_error: 0.0430\n",
      "Epoch 91/500\n",
      "7/7 [==============================] - 0s 7ms/step - loss: 0.0468 - mean_absolute_error: 0.0468 - val_loss: 0.0470 - val_mean_absolute_error: 0.0470\n",
      "Epoch 92/500\n",
      "7/7 [==============================] - 0s 7ms/step - loss: 0.0502 - mean_absolute_error: 0.0502 - val_loss: 0.0455 - val_mean_absolute_error: 0.0455\n",
      "Epoch 93/500\n",
      "7/7 [==============================] - 0s 7ms/step - loss: 0.0477 - mean_absolute_error: 0.0477 - val_loss: 0.0424 - val_mean_absolute_error: 0.0424\n",
      "Epoch 94/500\n",
      "7/7 [==============================] - 0s 7ms/step - loss: 0.0479 - mean_absolute_error: 0.0479 - val_loss: 0.0429 - val_mean_absolute_error: 0.0429\n",
      "Epoch 95/500\n",
      "7/7 [==============================] - 0s 8ms/step - loss: 0.0456 - mean_absolute_error: 0.0456 - val_loss: 0.0475 - val_mean_absolute_error: 0.0475\n",
      "Epoch 96/500\n",
      "7/7 [==============================] - 0s 9ms/step - loss: 0.0524 - mean_absolute_error: 0.0524 - val_loss: 0.0455 - val_mean_absolute_error: 0.0455\n",
      "Epoch 97/500\n",
      "7/7 [==============================] - 0s 8ms/step - loss: 0.0489 - mean_absolute_error: 0.0489 - val_loss: 0.0449 - val_mean_absolute_error: 0.0449\n",
      "Epoch 98/500\n",
      "7/7 [==============================] - 0s 8ms/step - loss: 0.0494 - mean_absolute_error: 0.0494 - val_loss: 0.0410 - val_mean_absolute_error: 0.0410\n",
      "Epoch 99/500\n",
      "7/7 [==============================] - 0s 8ms/step - loss: 0.0481 - mean_absolute_error: 0.0481 - val_loss: 0.0460 - val_mean_absolute_error: 0.0460\n",
      "Epoch 100/500\n",
      "7/7 [==============================] - 0s 8ms/step - loss: 0.0476 - mean_absolute_error: 0.0476 - val_loss: 0.0412 - val_mean_absolute_error: 0.0412\n",
      "Epoch 101/500\n"
     ]
    },
    {
     "name": "stdout",
     "output_type": "stream",
     "text": [
      "7/7 [==============================] - 0s 8ms/step - loss: 0.0490 - mean_absolute_error: 0.0490 - val_loss: 0.0428 - val_mean_absolute_error: 0.0428\n",
      "Epoch 102/500\n",
      "7/7 [==============================] - 0s 9ms/step - loss: 0.0456 - mean_absolute_error: 0.0456 - val_loss: 0.0434 - val_mean_absolute_error: 0.0434\n",
      "Epoch 103/500\n",
      "7/7 [==============================] - 0s 8ms/step - loss: 0.0487 - mean_absolute_error: 0.0487 - val_loss: 0.0428 - val_mean_absolute_error: 0.0428\n",
      "Epoch 104/500\n",
      "7/7 [==============================] - 0s 8ms/step - loss: 0.0470 - mean_absolute_error: 0.0470 - val_loss: 0.0419 - val_mean_absolute_error: 0.0419\n",
      "Epoch 105/500\n",
      "7/7 [==============================] - 0s 8ms/step - loss: 0.0465 - mean_absolute_error: 0.0465 - val_loss: 0.0456 - val_mean_absolute_error: 0.0456\n",
      "Epoch 106/500\n",
      "7/7 [==============================] - 0s 8ms/step - loss: 0.0495 - mean_absolute_error: 0.0495 - val_loss: 0.0447 - val_mean_absolute_error: 0.0447\n",
      "Epoch 107/500\n",
      "7/7 [==============================] - 0s 8ms/step - loss: 0.0484 - mean_absolute_error: 0.0484 - val_loss: 0.0461 - val_mean_absolute_error: 0.0461\n",
      "Epoch 108/500\n",
      "7/7 [==============================] - 0s 8ms/step - loss: 0.0466 - mean_absolute_error: 0.0466 - val_loss: 0.0479 - val_mean_absolute_error: 0.0479\n",
      "Epoch 109/500\n",
      "7/7 [==============================] - 0s 8ms/step - loss: 0.0510 - mean_absolute_error: 0.0510 - val_loss: 0.0460 - val_mean_absolute_error: 0.0460\n",
      "Epoch 110/500\n",
      "7/7 [==============================] - 0s 8ms/step - loss: 0.0472 - mean_absolute_error: 0.0472 - val_loss: 0.0440 - val_mean_absolute_error: 0.0440\n",
      "Epoch 111/500\n",
      "7/7 [==============================] - 0s 8ms/step - loss: 0.0463 - mean_absolute_error: 0.0463 - val_loss: 0.0417 - val_mean_absolute_error: 0.0417\n",
      "Epoch 112/500\n",
      "7/7 [==============================] - 0s 8ms/step - loss: 0.0453 - mean_absolute_error: 0.0453 - val_loss: 0.0408 - val_mean_absolute_error: 0.0408\n",
      "Epoch 113/500\n",
      "7/7 [==============================] - 0s 8ms/step - loss: 0.0469 - mean_absolute_error: 0.0469 - val_loss: 0.0447 - val_mean_absolute_error: 0.0447\n",
      "Epoch 114/500\n",
      "7/7 [==============================] - 0s 8ms/step - loss: 0.0467 - mean_absolute_error: 0.0467 - val_loss: 0.0475 - val_mean_absolute_error: 0.0475\n",
      "Epoch 115/500\n",
      "7/7 [==============================] - 0s 7ms/step - loss: 0.0474 - mean_absolute_error: 0.0474 - val_loss: 0.0459 - val_mean_absolute_error: 0.0459\n",
      "Epoch 116/500\n",
      "7/7 [==============================] - 0s 7ms/step - loss: 0.0503 - mean_absolute_error: 0.0503 - val_loss: 0.0528 - val_mean_absolute_error: 0.0528\n",
      "Epoch 117/500\n",
      "7/7 [==============================] - 0s 7ms/step - loss: 0.0531 - mean_absolute_error: 0.0531 - val_loss: 0.0422 - val_mean_absolute_error: 0.0422\n",
      "Epoch 118/500\n",
      "7/7 [==============================] - 0s 7ms/step - loss: 0.0487 - mean_absolute_error: 0.0487 - val_loss: 0.0437 - val_mean_absolute_error: 0.0437\n",
      "Epoch 119/500\n",
      "7/7 [==============================] - 0s 7ms/step - loss: 0.0472 - mean_absolute_error: 0.0472 - val_loss: 0.0428 - val_mean_absolute_error: 0.0428\n",
      "Epoch 120/500\n",
      "7/7 [==============================] - 0s 7ms/step - loss: 0.0477 - mean_absolute_error: 0.0477 - val_loss: 0.0418 - val_mean_absolute_error: 0.0418\n",
      "Epoch 121/500\n",
      "7/7 [==============================] - 0s 7ms/step - loss: 0.0446 - mean_absolute_error: 0.0446 - val_loss: 0.0422 - val_mean_absolute_error: 0.0422\n",
      "Epoch 122/500\n",
      "7/7 [==============================] - 0s 7ms/step - loss: 0.0480 - mean_absolute_error: 0.0480 - val_loss: 0.0415 - val_mean_absolute_error: 0.0415\n",
      "Epoch 123/500\n",
      "7/7 [==============================] - 0s 7ms/step - loss: 0.0474 - mean_absolute_error: 0.0474 - val_loss: 0.0447 - val_mean_absolute_error: 0.0447\n",
      "Epoch 124/500\n",
      "7/7 [==============================] - 0s 7ms/step - loss: 0.0530 - mean_absolute_error: 0.0530 - val_loss: 0.0412 - val_mean_absolute_error: 0.0412\n",
      "Epoch 125/500\n",
      "7/7 [==============================] - 0s 7ms/step - loss: 0.0454 - mean_absolute_error: 0.0454 - val_loss: 0.0439 - val_mean_absolute_error: 0.0439\n",
      "Epoch 126/500\n",
      "7/7 [==============================] - 0s 7ms/step - loss: 0.0473 - mean_absolute_error: 0.0473 - val_loss: 0.0418 - val_mean_absolute_error: 0.0418\n",
      "Epoch 127/500\n",
      "7/7 [==============================] - 0s 7ms/step - loss: 0.0480 - mean_absolute_error: 0.0480 - val_loss: 0.0415 - val_mean_absolute_error: 0.0415\n",
      "Epoch 128/500\n",
      "7/7 [==============================] - 0s 7ms/step - loss: 0.0463 - mean_absolute_error: 0.0463 - val_loss: 0.0408 - val_mean_absolute_error: 0.0408\n",
      "Epoch 129/500\n",
      "7/7 [==============================] - 0s 7ms/step - loss: 0.0465 - mean_absolute_error: 0.0465 - val_loss: 0.0447 - val_mean_absolute_error: 0.0447\n",
      "Epoch 130/500\n",
      "7/7 [==============================] - 0s 7ms/step - loss: 0.0468 - mean_absolute_error: 0.0468 - val_loss: 0.0409 - val_mean_absolute_error: 0.0409\n",
      "Epoch 131/500\n",
      "7/7 [==============================] - 0s 8ms/step - loss: 0.0475 - mean_absolute_error: 0.0475 - val_loss: 0.0447 - val_mean_absolute_error: 0.0447\n",
      "Epoch 132/500\n",
      "7/7 [==============================] - 0s 7ms/step - loss: 0.0489 - mean_absolute_error: 0.0489 - val_loss: 0.0460 - val_mean_absolute_error: 0.0460\n",
      "Epoch 133/500\n",
      "7/7 [==============================] - 0s 7ms/step - loss: 0.0490 - mean_absolute_error: 0.0490 - val_loss: 0.0411 - val_mean_absolute_error: 0.0411\n",
      "Epoch 134/500\n",
      "7/7 [==============================] - 0s 7ms/step - loss: 0.0456 - mean_absolute_error: 0.0456 - val_loss: 0.0418 - val_mean_absolute_error: 0.0418\n",
      "Epoch 135/500\n",
      "7/7 [==============================] - 0s 7ms/step - loss: 0.0469 - mean_absolute_error: 0.0469 - val_loss: 0.0416 - val_mean_absolute_error: 0.0416\n",
      "Epoch 136/500\n",
      "7/7 [==============================] - 0s 7ms/step - loss: 0.0460 - mean_absolute_error: 0.0460 - val_loss: 0.0406 - val_mean_absolute_error: 0.0406\n",
      "Epoch 137/500\n",
      "7/7 [==============================] - 0s 7ms/step - loss: 0.0453 - mean_absolute_error: 0.0453 - val_loss: 0.0401 - val_mean_absolute_error: 0.0401\n",
      "Epoch 138/500\n",
      "7/7 [==============================] - 0s 7ms/step - loss: 0.0447 - mean_absolute_error: 0.0447 - val_loss: 0.0425 - val_mean_absolute_error: 0.0425\n",
      "Epoch 139/500\n",
      "7/7 [==============================] - 0s 7ms/step - loss: 0.0456 - mean_absolute_error: 0.0456 - val_loss: 0.0424 - val_mean_absolute_error: 0.0424\n",
      "Epoch 140/500\n",
      "7/7 [==============================] - 0s 7ms/step - loss: 0.0478 - mean_absolute_error: 0.0478 - val_loss: 0.0419 - val_mean_absolute_error: 0.0419\n",
      "Epoch 141/500\n",
      "7/7 [==============================] - 0s 7ms/step - loss: 0.0486 - mean_absolute_error: 0.0486 - val_loss: 0.0449 - val_mean_absolute_error: 0.0449\n",
      "Epoch 141: early stopping\n"
     ]
    },
    {
     "data": {
      "text/plain": [
       "<keras.src.callbacks.History at 0x30aea4510>"
      ]
     },
     "execution_count": 28,
     "metadata": {},
     "output_type": "execute_result"
    }
   ],
   "source": [
    "best_models.fit(X_train, y_train,\n",
    "                epochs=500,\n",
    "                batch_size=128,\n",
    "                validation_split=0.15,\n",
    "                shuffle = True,\n",
    "                verbose = 1,\n",
    "                callbacks=[early_stopping, tensorboard_callback_train])"
   ]
  },
  {
   "cell_type": "code",
   "execution_count": null,
   "id": "db269517",
   "metadata": {},
   "outputs": [],
   "source": [
    "%tensorboard --logdir logs/logs_train"
   ]
  },
  {
   "cell_type": "code",
   "execution_count": 29,
   "id": "54a2e92f",
   "metadata": {},
   "outputs": [
    {
     "name": "stdout",
     "output_type": "stream",
     "text": [
      ">>> Mean ABS Error: 0.03742477297782898 \n",
      ">>> R2 Score: 0.8401862978935242\n"
     ]
    }
   ],
   "source": [
    "# @title Evaluation on Test Data { display-mode: \"both\" }\n",
    "\n",
    "best_models.compile(loss='mean_absolute_error', optimizer='adam', metrics=[keras.metrics.R2Score()])\n",
    "te_eval = best_models.evaluate(X_test, y_test, verbose = 0)\n",
    "print (f'>>> Mean ABS Error: {te_eval[0]} \\n>>> R2 Score: {te_eval[1]}')"
   ]
  },
  {
   "cell_type": "code",
   "execution_count": 30,
   "id": "8ca2422c",
   "metadata": {},
   "outputs": [
    {
     "name": "stdout",
     "output_type": "stream",
     "text": [
      ">>> Mean ABS Error: 0.042029645293951035 \n",
      ">>> R2 Score: 0.7888541221618652\n"
     ]
    }
   ],
   "source": [
    "# @title Recheck on Train Data { display-mode: \"both\" }\n",
    "best_models.compile(loss='mean_absolute_error', optimizer='adam', metrics=[keras.metrics.R2Score()])\n",
    "tr_eval = best_models.evaluate(X_train, y_train, verbose = 0)\n",
    "print (f'>>> Mean ABS Error: {tr_eval[0]} \\n>>> R2 Score: {tr_eval[1]}')"
   ]
  },
  {
   "cell_type": "code",
   "execution_count": 31,
   "id": "637f5061",
   "metadata": {},
   "outputs": [
    {
     "name": "stdout",
     "output_type": "stream",
     "text": [
      "Mean Absolute Error from any Quote:: $3,754.966754976809\n"
     ]
    }
   ],
   "source": [
    "MAE_scaled = np.asarray(tr_eval[0]).reshape(1, -1)\n",
    "print(f'Mean Absolute Error from any Quote:: ${y_min_max_scaler.inverse_transform(MAE_scaled).ravel()[0]:,}')"
   ]
  },
  {
   "cell_type": "code",
   "execution_count": 32,
   "id": "266dc51d",
   "metadata": {},
   "outputs": [
    {
     "name": "stdout",
     "output_type": "stream",
     "text": [
      "Requirement already satisfied: visualkeras in /Users/j.mai.le/anaconda3/lib/python3.11/site-packages (0.0.2)\r\n",
      "Requirement already satisfied: pillow>=6.2.0 in /Users/j.mai.le/anaconda3/lib/python3.11/site-packages (from visualkeras) (9.4.0)\r\n",
      "Requirement already satisfied: numpy>=1.18.1 in /Users/j.mai.le/anaconda3/lib/python3.11/site-packages (from visualkeras) (1.24.3)\r\n",
      "Requirement already satisfied: aggdraw>=1.3.11 in /Users/j.mai.le/anaconda3/lib/python3.11/site-packages (from visualkeras) (1.3.18.post0)\r\n"
     ]
    }
   ],
   "source": [
    "!pip install visualkeras"
   ]
  },
  {
   "cell_type": "code",
   "execution_count": 33,
   "id": "4b801d24",
   "metadata": {},
   "outputs": [
    {
     "data": {
      "image/png": "[encoded data removed]",
      "text/plain": [
       "<PIL.Image.Image image mode=RGBA size=287x27>"
      ]
     },
     "execution_count": 33,
     "metadata": {},
     "output_type": "execute_result"
    }
   ],
   "source": [
    "import visualkeras\n",
    "visualkeras.layered_view(best_models)"
   ]
  },
  {
   "cell_type": "code",
   "execution_count": 34,
   "id": "518d1eb4",
   "metadata": {},
   "outputs": [
    {
     "name": "stdout",
     "output_type": "stream",
     "text": [
      "Time lapse: 3.600120544433594e-05\n",
      "Folder created... True\n"
     ]
    }
   ],
   "source": [
    "# @title Save Model / Scaler / Encoder { display-mode: \"both\" }\n",
    "import time\n",
    "if os.path.exists('./Trained Models/') == False:\n",
    "  os.mkdir ('./Trained Models')\n",
    "\n",
    "  time_out_lim = 30\n",
    "  periodic_check = 5\n",
    "  start = time.time()\n",
    "\n",
    "  while time.time() - start < time_out_lim:\n",
    "    print(\"Time lapse:\", time.time() - start)\n",
    "    if os.path.exists('./Trained Models/'):\n",
    "      best_models.save('./Trained Models/tuned_insurance_model.keras', overwrite=True)\n",
    "      jlib.dump(X_OH_fit, r'./Trained Models/oneHotModel.pkl')\n",
    "      jlib.dump(X_fit_scaler, r'./Trained Models/X_min_max_fit.pkl')\n",
    "      jlib.dump(y_fit_scaler, r'./Trained Models/y_min_max_fit.pkl')\n",
    "      print(\"Folder created...\", os.path.exists('./Trained Models/') )\n",
    "      break\n",
    "    else:\n",
    "      print (\"Unable to create Trained Models folder, Timed Out...\")\n",
    "    time.sleep(periodic_check)\n",
    "\n"
   ]
  },
  {
   "cell_type": "code",
   "execution_count": 35,
   "id": "e96dd580",
   "metadata": {},
   "outputs": [
    {
     "name": "stdout",
     "output_type": "stream",
     "text": [
      "Model: \"sequential\"\n",
      "_________________________________________________________________\n",
      " Layer (type)                Output Shape              Param #   \n",
      "=================================================================\n",
      " flatten (Flatten)           (None, 11)                0         \n",
      "                                                                 \n",
      " dense (Dense)               (None, 36)                432       \n",
      "                                                                 \n",
      " dense_1 (Dense)             (None, 72)                2664      \n",
      "                                                                 \n",
      " dense_2 (Dense)             (None, 72)                5256      \n",
      "                                                                 \n",
      " dense_3 (Dense)             (None, 60)                4380      \n",
      "                                                                 \n",
      " dense_4 (Dense)             (None, 12)                732       \n",
      "                                                                 \n",
      " dense_5 (Dense)             (None, 12)                156       \n",
      "                                                                 \n",
      " dropout (Dropout)           (None, 12)                0         \n",
      "                                                                 \n",
      " dense_6 (Dense)             (None, 1)                 13        \n",
      "                                                                 \n",
      "=================================================================\n",
      "Total params: 13633 (53.25 KB)\n",
      "Trainable params: 13633 (53.25 KB)\n",
      "Non-trainable params: 0 (0.00 Byte)\n",
      "_________________________________________________________________\n"
     ]
    }
   ],
   "source": [
    "X_min_max_model = jlib.load(r'./Trained Models/X_min_max_fit.pkl')\n",
    "y_min_max_model = jlib.load(r'./Trained Models/y_min_max_fit.pkl')\n",
    "X_oneHot_model = jlib.load(r'./Trained Models/oneHotModel.pkl')\n",
    "pred_model = keras.saving.load_model('./Trained Models/tuned_insurance_model.keras')\n",
    "pred_model.summary()"
   ]
  },
  {
   "cell_type": "code",
   "execution_count": 36,
   "id": "dfcbcc57",
   "metadata": {},
   "outputs": [],
   "source": [
    "def predict_ins_charges(X_raw_input_arr, y_true = None):\n",
    "\n",
    "    feature_cols = ['age','sex', 'bmi', 'children',\t'smoker',\t'region']\n",
    "    # X_raw_input_arr = [19, \"female\", 27.90, 0 , \"yes\", \"southwest\"]\n",
    "    input_df = pd.DataFrame([dict(zip(feature_cols, X_raw_input_arr))])\n",
    "\n",
    "    cols_to_encode = ['sex', 'smoker', 'region']\n",
    "    one_hot_encoded_df =  pd.DataFrame(X_oneHot_model.transform(input_df[cols_to_encode]), columns=X_oneHot_model.get_feature_names_out())\n",
    "\n",
    "    col_to_scale = ['age', 'bmi', 'children']\n",
    "    input_df[col_to_scale] = X_min_max_model.transform(input_df[col_to_scale])\n",
    "\n",
    "\n",
    "    input_df = input_df.drop(cols_to_encode, axis = 1).merge(one_hot_encoded_df, left_index=True, right_index=True)\n",
    "\n",
    "\n",
    "    y_pred_scaled = pred_model.predict(input_df, verbose = 1)\n",
    "    ISR = y_min_max_model.inverse_transform(y_pred_scaled).ravel()[0]\n",
    "\n",
    "    if y_true:\n",
    "      absErr = y_true - ISR\n",
    "      percErr =  absErr / y_true * 100\n",
    "\n",
    "      # return {\"Insurance Quote\": ISR,\n",
    "      #         \"True Value\" : y_true,\n",
    "      #         \"Quote Error Amount\": absErr,\n",
    "      #         \"Quote Error Percentage\": percErr}\n",
    "\n",
    "      print('>>> Insurance Quote: ${:,.2f}\\n>>> True Value : ${:,.2f}\\n>>> Quote Error Amount: ${:,.2f}\\n>>> Quote Error Percentage: {:,.2f}%'.format(ISR, y_true, absErr, percErr))\n",
    "\n",
    "    else:\n",
    "      print(\">>> Insurance Quote: ${:,.2f}\".format(ISR))\n",
    "      # return f\">>> ISR: ${ISR:,}\""
   ]
  },
  {
   "cell_type": "code",
   "execution_count": 37,
   "id": "a3324d42",
   "metadata": {},
   "outputs": [
    {
     "name": "stdout",
     "output_type": "stream",
     "text": [
      "1/1 [==============================] - 0s 52ms/step\n",
      ">>> Insurance Quote: $3,764.41\n",
      ">>> True Value : $4,449.46\n",
      ">>> Quote Error Amount: $685.06\n",
      ">>> Quote Error Percentage: 15.40%\n"
     ]
    }
   ],
   "source": [
    "user_input = [28, \"male\", 33, 3 , \"no\", \"southeast\"]\n",
    "predict_ins_charges(user_input, 4449.4620)"
   ]
  },
  {
   "cell_type": "code",
   "execution_count": 38,
   "id": "0fbe854b",
   "metadata": {},
   "outputs": [
    {
     "ename": "NameError",
     "evalue": "name 'widgets' is not defined",
     "output_type": "error",
     "traceback": [
      "\u001b[0;31m---------------------------------------------------------------------------\u001b[0m",
      "\u001b[0;31mNameError\u001b[0m                                 Traceback (most recent call last)",
      "Cell \u001b[0;32mIn[38], line 2\u001b[0m\n\u001b[1;32m      1\u001b[0m \u001b[38;5;66;03m# 64, 18\u001b[39;00m\n\u001b[0;32m----> 2\u001b[0m Age \u001b[38;5;241m=\u001b[39m widgets\u001b[38;5;241m.\u001b[39mIntSlider(\n\u001b[1;32m      3\u001b[0m     value\u001b[38;5;241m=\u001b[39m\u001b[38;5;241m20\u001b[39m,\n\u001b[1;32m      4\u001b[0m     \u001b[38;5;28mmin\u001b[39m\u001b[38;5;241m=\u001b[39m\u001b[38;5;241m10\u001b[39m,\n\u001b[1;32m      5\u001b[0m     \u001b[38;5;28mmax\u001b[39m\u001b[38;5;241m=\u001b[39m\u001b[38;5;241m80\u001b[39m,\n\u001b[1;32m      6\u001b[0m     step\u001b[38;5;241m=\u001b[39m\u001b[38;5;241m1\u001b[39m,\n\u001b[1;32m      7\u001b[0m     description\u001b[38;5;241m=\u001b[39m\u001b[38;5;124m'\u001b[39m\u001b[38;5;124mAge\u001b[39m\u001b[38;5;124m'\u001b[39m,\n\u001b[1;32m      8\u001b[0m     disabled\u001b[38;5;241m=\u001b[39m\u001b[38;5;28;01mFalse\u001b[39;00m,\n\u001b[1;32m      9\u001b[0m     continuous_update\u001b[38;5;241m=\u001b[39m\u001b[38;5;28;01mFalse\u001b[39;00m,\n\u001b[1;32m     10\u001b[0m     orientation\u001b[38;5;241m=\u001b[39m\u001b[38;5;124m'\u001b[39m\u001b[38;5;124mhorizontal\u001b[39m\u001b[38;5;124m'\u001b[39m,\n\u001b[1;32m     11\u001b[0m     readout\u001b[38;5;241m=\u001b[39m\u001b[38;5;28;01mTrue\u001b[39;00m,\n\u001b[1;32m     12\u001b[0m     readout_format\u001b[38;5;241m=\u001b[39m\u001b[38;5;124m'\u001b[39m\u001b[38;5;124md\u001b[39m\u001b[38;5;124m'\u001b[39m\n\u001b[1;32m     13\u001b[0m )\n\u001b[1;32m     15\u001b[0m \u001b[38;5;66;03m# 53.13, 15.96\u001b[39;00m\n\u001b[1;32m     16\u001b[0m BMI \u001b[38;5;241m=\u001b[39m widgets\u001b[38;5;241m.\u001b[39mFloatSlider(\n\u001b[1;32m     17\u001b[0m     value\u001b[38;5;241m=\u001b[39m\u001b[38;5;241m28\u001b[39m,\n\u001b[1;32m     18\u001b[0m     \u001b[38;5;28mmin\u001b[39m\u001b[38;5;241m=\u001b[39m\u001b[38;5;241m0\u001b[39m,\n\u001b[0;32m   (...)\u001b[0m\n\u001b[1;32m     26\u001b[0m     readout_format\u001b[38;5;241m=\u001b[39m\u001b[38;5;124m'\u001b[39m\u001b[38;5;124m.1f\u001b[39m\u001b[38;5;124m'\u001b[39m,\n\u001b[1;32m     27\u001b[0m )\n",
      "\u001b[0;31mNameError\u001b[0m: name 'widgets' is not defined"
     ]
    }
   ],
   "source": [
    "# 64, 18\n",
    "Age = widgets.IntSlider(\n",
    "    value=20,\n",
    "    min=10,\n",
    "    max=80,\n",
    "    step=1,\n",
    "    description='Age',\n",
    "    disabled=False,\n",
    "    continuous_update=False,\n",
    "    orientation='horizontal',\n",
    "    readout=True,\n",
    "    readout_format='d'\n",
    ")\n",
    "\n",
    "# 53.13, 15.96\n",
    "BMI = widgets.FloatSlider(\n",
    "    value=28,\n",
    "    min=0,\n",
    "    max=10.0,\n",
    "    step=0.1,\n",
    "    description='BMI',\n",
    "    disabled=False,\n",
    "    continuous_update=False,\n",
    "    orientation='horizontal',\n",
    "    readout=True,\n",
    "    readout_format='.1f',\n",
    ")\n",
    "\n",
    "# 5, 0\n",
    "Children = widgets.IntSlider(\n",
    "    value=0,\n",
    "    min=0,\n",
    "    max=10,\n",
    "    step=1,\n",
    "    description='Children',\n",
    "    disabled=False,\n",
    "    continuous_update=False,\n",
    "    orientation='horizontal',\n",
    "    readout=True,\n",
    "    readout_format='d'\n",
    ")\n",
    "\n",
    "Sex = widgets.Dropdown(\n",
    "    options=['Female', 'Male'],\n",
    "    value='Female',\n",
    "    description='Gender',\n",
    "    disabled=False,\n",
    ")\n",
    "\n",
    "Smoking = widgets.RadioButtons(\n",
    "    options=['Yes', 'No'],\n",
    "    value='No',\n",
    "    description='Smoker?',\n",
    "    disabled=False\n",
    ")\n",
    "\n",
    "Region = widgets.Dropdown(\n",
    "    options=['Southwest', 'Southeast', 'Northwest', 'Northeast'],\n",
    "    value='Southwest',\n",
    "    description='Region',\n",
    "    disabled=False,\n",
    ")\n",
    "\n",
    "Y_True = widgets.Text(\n",
    "    value='Hello World',\n",
    "    placeholder = '0',\n",
    "    description ='Truly Paid',\n",
    "    disabled = False\n",
    ")\n",
    "\n",
    "box_out = widgets.VBox([Age, BMI, Children, Sex, Smoking, Region, Y_True])\n",
    "\n",
    "def f(Age, BMI, Children, Sex, Smoking, Region, Y_True):\n",
    "  # [28, \"male\", 33, 3 , \"no\", \"southeast\"]\n",
    "  if Y_True <= 0:\n",
    "    Y_True = None\n",
    "  else:\n",
    "    Y_True = Y_True\n",
    "\n",
    "    # print((Age, Sex, BMI, Children, Smoking, Region, Y_True))\n",
    "    pred_model()\n",
    "\n",
    "out = widgets.interactive_output(f, {'Age': Age, 'BMI': BMI, 'Children': Children,\"Sex\": Sex, \"Smoking\": Smoking, \"Region\": Region, 'Y_True': Y_True})\n",
    "\n",
    "display(box_out, out)"
   ]
  },
  {
   "cell_type": "code",
   "execution_count": null,
   "id": "80fdc34f",
   "metadata": {},
   "outputs": [],
   "source": []
  },
  {
   "cell_type": "code",
   "execution_count": null,
   "id": "455aada5",
   "metadata": {},
   "outputs": [],
   "source": []
  },
  {
   "cell_type": "code",
   "execution_count": null,
   "id": "800ff786",
   "metadata": {},
   "outputs": [],
   "source": []
  },
  {
   "cell_type": "code",
   "execution_count": null,
   "id": "696be2ae",
   "metadata": {},
   "outputs": [],
   "source": []
  }
 ],
 "metadata": {
  "kernelspec": {
   "display_name": "Python 3 (ipykernel)",
   "language": "python",
   "name": "python3"
  },
  "language_info": {
   "codemirror_mode": {
    "name": "ipython",
    "version": 3
   },
   "file_extension": ".py",
   "mimetype": "text/x-python",
   "name": "python",
   "nbconvert_exporter": "python",
   "pygments_lexer": "ipython3",
   "version": "3.11.4"
  }
 },
 "nbformat": 4,
 "nbformat_minor": 5
}
